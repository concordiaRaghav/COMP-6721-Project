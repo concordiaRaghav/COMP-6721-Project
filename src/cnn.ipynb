{
 "cells": [
  {
   "cell_type": "code",
   "execution_count": 95,
   "metadata": {},
   "outputs": [],
   "source": [
    "import torch\n",
    "import torch.nn as nn\n",
    "import torch.optim as optim\n",
    "import torchvision.transforms as transforms\n",
    "import numpy as np\n",
    "import os\n",
    "import random\n",
    "from sklearn.model_selection import train_test_split\n",
    "from torch.utils.data import DataLoader, Dataset\n",
    "import cv2\n",
    "from sklearn.preprocessing import LabelEncoder\n",
    "from sklearn.metrics import precision_score, recall_score, f1_score, accuracy_score, confusion_matrix, classification_report\n",
    "import matplotlib.pyplot as plt\n",
    "import seaborn as sns"
   ]
  },
  {
   "cell_type": "code",
   "execution_count": 92,
   "metadata": {},
   "outputs": [],
   "source": [
    "def load_images_from_folder(folder, num_images_per_class=1800):\n",
    "    images = []\n",
    "    labels = []\n",
    "    for label in os.listdir(folder):\n",
    "        class_folder = os.path.join(folder, label)\n",
    "        if not os.path.isdir(class_folder):\n",
    "            print(f\"Skipping non-directory item: {class_folder}\")\n",
    "            continue\n",
    "        all_images = os.listdir(class_folder)\n",
    "        if len(all_images) < num_images_per_class:\n",
    "            print(f\"Not enough images in {class_folder}. Found {len(all_images)}, required {num_images_per_class}\")\n",
    "            continue\n",
    "        selected_images = random.sample(all_images, num_images_per_class)\n",
    "        for filename in selected_images:\n",
    "            img_path = os.path.join(class_folder, filename)\n",
    "            img = cv2.imread(img_path)\n",
    "            if img is None:\n",
    "                print(f\"Failed to load image: {img_path}\")\n",
    "                continue\n",
    "            img = cv2.resize(img, (256, 256))  # Resizing images to a consistent size \n",
    "            images.append(img)\n",
    "            labels.append(label)\n",
    "    return np.array(images), np.array(labels)"
   ]
  },
  {
   "cell_type": "code",
   "execution_count": 68,
   "metadata": {},
   "outputs": [],
   "source": [
    "# Custom dataset class\n",
    "class CustomImageDataset(Dataset):\n",
    "    def __init__(self, images, labels, transform=None):\n",
    "        self.images = images\n",
    "        self.labels = labels\n",
    "        self.transform = transform\n",
    "\n",
    "    def __len__(self):\n",
    "        return len(self.images)\n",
    "\n",
    "    def __getitem__(self, idx):\n",
    "        image = self.images[idx]\n",
    "        label = self.labels[idx]\n",
    "        if self.transform:\n",
    "            image = self.transform(image)\n",
    "        return image, label"
   ]
  },
  {
   "cell_type": "code",
   "execution_count": 69,
   "metadata": {},
   "outputs": [],
   "source": [
    "# Data Augmentation in Training Transformations \n",
    "# added random horizontal flip and random rotations\n",
    "train_transform = transforms.Compose([\n",
    "    transforms.ToPILImage(),\n",
    "    transforms.Resize((256, 256)),\n",
    "    transforms.RandomHorizontalFlip(),\n",
    "    transforms.RandomRotation(10),\n",
    "    transforms.ToTensor(),\n",
    "    transforms.Normalize(mean=[0.485, 0.456, 0.406], std=[0.229, 0.224, 0.225]),\n",
    "])\n",
    "\n",
    "val_test_transform = transforms.Compose([\n",
    "    transforms.ToPILImage(),\n",
    "    transforms.Resize((256, 256)),\n",
    "    transforms.ToTensor(),\n",
    "    transforms.Normalize(mean=[0.485, 0.456, 0.406], std=[0.229, 0.224, 0.225]),\n",
    "])"
   ]
  },
  {
   "cell_type": "code",
   "execution_count": 93,
   "metadata": {},
   "outputs": [
    {
     "name": "stdout",
     "output_type": "stream",
     "text": [
      "Skipping non-directory item: /Users/raghavsenwal/Downloads/data_256/.DS_Store\n",
      "Loaded 9000 images with 9000 labels.\n",
      "Unique labels found: {'HospitalRoom', 'Gymnasium', 'Bar', 'SubwayStation ', 'Restaurant'}\n"
     ]
    }
   ],
   "source": [
    "folder = '/Users/raghavsenwal/Downloads/data_256' \n",
    "images, labels = load_images_from_folder(folder)\n",
    "print(f\"Loaded {len(images)} images with {len(labels)} labels.\")\n",
    "print(f\"Unique labels found: {set(labels)}\")"
   ]
  },
  {
   "cell_type": "code",
   "execution_count": 71,
   "metadata": {},
   "outputs": [],
   "source": [
    "# Encode labels\n",
    "label_encoder = LabelEncoder()\n",
    "encoded_labels = label_encoder.fit_transform(labels)"
   ]
  },
  {
   "cell_type": "code",
   "execution_count": 72,
   "metadata": {},
   "outputs": [],
   "source": [
    "# Split the data\n",
    "X_train, X_temp, y_train, y_temp = train_test_split(images, encoded_labels, test_size=0.4, random_state=42)\n",
    "X_val, X_test, y_val, y_test = train_test_split(X_temp, y_temp, test_size=0.5, random_state=42)"
   ]
  },
  {
   "cell_type": "code",
   "execution_count": 73,
   "metadata": {},
   "outputs": [],
   "source": [
    "# Create datasets\n",
    "train_dataset = CustomImageDataset(X_train, y_train, transform=train_transform)\n",
    "val_dataset = CustomImageDataset(X_val, y_val, transform=val_test_transform)\n",
    "test_dataset = CustomImageDataset(X_test, y_test, transform=val_test_transform)"
   ]
  },
  {
   "cell_type": "code",
   "execution_count": 74,
   "metadata": {},
   "outputs": [],
   "source": [
    "# Create dataloaders\n",
    "batch_size = 32\n",
    "train_loader = DataLoader(train_dataset, batch_size=batch_size, shuffle=True)\n",
    "val_loader = DataLoader(val_dataset, batch_size=batch_size, shuffle=False)\n",
    "test_loader = DataLoader(test_dataset, batch_size=batch_size, shuffle=False)\n"
   ]
  },
  {
   "cell_type": "code",
   "execution_count": 75,
   "metadata": {},
   "outputs": [],
   "source": [
    "# Define the CNN model with batch normalization and Leaky ReLU\n",
    "class CNNModel(nn.Module):\n",
    "    def __init__(self, num_classes=5):\n",
    "        super(CNNModel, self).__init__()\n",
    "        self.conv1 = nn.Conv2d(in_channels=3, out_channels=32, kernel_size=3, padding=1)\n",
    "        self.bn1 = nn.BatchNorm2d(32)\n",
    "        self.conv2 = nn.Conv2d(in_channels=32, out_channels=64, kernel_size=3, padding=1)\n",
    "        self.bn2 = nn.BatchNorm2d(64)\n",
    "        self.conv3 = nn.Conv2d(in_channels=64, out_channels=128, kernel_size=3, padding=1)\n",
    "        self.bn3 = nn.BatchNorm2d(128)\n",
    "        self.pool = nn.MaxPool2d(kernel_size=2, stride=2)\n",
    "        self.fc1 = nn.Linear(128 * 32 * 32, 512)\n",
    "        self.dropout = nn.Dropout(0.5)\n",
    "        self.fc2 = nn.Linear(512, num_classes)\n",
    "\n",
    "    def forward(self, x):\n",
    "        x = self.pool(nn.LeakyReLU()(self.bn1(self.conv1(x))))\n",
    "        x = self.pool(nn.LeakyReLU()(self.bn2(self.conv2(x))))\n",
    "        x = self.pool(nn.LeakyReLU()(self.bn3(self.conv3(x))))\n",
    "        x = x.view(-1, 128 * 32 * 32)\n",
    "        x = nn.LeakyReLU()(self.fc1(x))\n",
    "        x = self.dropout(x)\n",
    "        x = self.fc2(x)\n",
    "        return x"
   ]
  },
  {
   "cell_type": "code",
   "execution_count": 76,
   "metadata": {},
   "outputs": [],
   "source": [
    "# Initialize the model, loss function, and optimizer\n",
    "# L2 Regularization: Added weight_decay=1e-4 in the optimizer\n",
    "model = CNNModel(num_classes=5)\n",
    "device = torch.device('mps')\n",
    "model = model.to(device)\n",
    "criterion = nn.CrossEntropyLoss()\n",
    "optimizer = optim.Adam(model.parameters(), lr=0.001, weight_decay=1e-4)  # L2 regularization (weight decay)\n"
   ]
  },
  {
   "cell_type": "code",
   "execution_count": 77,
   "metadata": {},
   "outputs": [],
   "source": [
    "# Early stopping criteria\n",
    "patience = 7\n",
    "# If the validation loss does not improve for patience consecutive epochs, \n",
    "# the training stops early\n",
    "best_val_loss = float('inf')\n",
    "patience_counter = 0\n"
   ]
  },
  {
   "cell_type": "code",
   "execution_count": 78,
   "metadata": {},
   "outputs": [
    {
     "name": "stdout",
     "output_type": "stream",
     "text": [
      "Epoch 1/50, Training Loss: 6.0730, Validation Loss: 1.2886, Validation Accuracy: 47.22%\n",
      "Epoch 2/50, Training Loss: 1.5436, Validation Loss: 1.2175, Validation Accuracy: 50.00%\n",
      "Epoch 3/50, Training Loss: 1.4201, Validation Loss: 1.1911, Validation Accuracy: 51.61%\n",
      "Epoch 4/50, Training Loss: 1.3286, Validation Loss: 1.2112, Validation Accuracy: 51.28%\n",
      "Epoch 5/50, Training Loss: 1.2715, Validation Loss: 1.0890, Validation Accuracy: 59.22%\n",
      "Epoch 6/50, Training Loss: 1.2579, Validation Loss: 1.1285, Validation Accuracy: 56.44%\n",
      "Epoch 7/50, Training Loss: 1.2503, Validation Loss: 1.1226, Validation Accuracy: 57.11%\n",
      "Epoch 8/50, Training Loss: 1.2457, Validation Loss: 1.0810, Validation Accuracy: 59.61%\n",
      "Epoch 9/50, Training Loss: 1.2301, Validation Loss: 1.2541, Validation Accuracy: 54.72%\n",
      "Epoch 10/50, Training Loss: 1.1811, Validation Loss: 1.2560, Validation Accuracy: 53.44%\n",
      "Epoch 11/50, Training Loss: 1.1506, Validation Loss: 1.0946, Validation Accuracy: 57.83%\n",
      "Epoch 12/50, Training Loss: 1.1604, Validation Loss: 1.1430, Validation Accuracy: 55.78%\n",
      "Epoch 13/50, Training Loss: 1.1354, Validation Loss: 1.1030, Validation Accuracy: 61.89%\n",
      "Epoch 14/50, Training Loss: 1.1274, Validation Loss: 1.0504, Validation Accuracy: 59.56%\n",
      "Epoch 15/50, Training Loss: 1.1513, Validation Loss: 1.1100, Validation Accuracy: 57.67%\n",
      "Epoch 16/50, Training Loss: 1.0872, Validation Loss: 1.0556, Validation Accuracy: 57.89%\n",
      "Epoch 17/50, Training Loss: 1.0958, Validation Loss: 0.9975, Validation Accuracy: 61.94%\n",
      "Epoch 18/50, Training Loss: 1.0540, Validation Loss: 1.0341, Validation Accuracy: 61.72%\n",
      "Epoch 19/50, Training Loss: 1.0829, Validation Loss: 1.1815, Validation Accuracy: 57.78%\n",
      "Epoch 20/50, Training Loss: 1.0553, Validation Loss: 0.9939, Validation Accuracy: 61.89%\n",
      "Epoch 21/50, Training Loss: 1.0162, Validation Loss: 0.9481, Validation Accuracy: 63.89%\n",
      "Epoch 22/50, Training Loss: 0.9840, Validation Loss: 0.9809, Validation Accuracy: 61.89%\n",
      "Epoch 23/50, Training Loss: 1.0005, Validation Loss: 0.9982, Validation Accuracy: 62.67%\n",
      "Epoch 24/50, Training Loss: 0.9471, Validation Loss: 1.0150, Validation Accuracy: 61.44%\n",
      "Epoch 25/50, Training Loss: 0.9164, Validation Loss: 0.9837, Validation Accuracy: 62.89%\n",
      "Epoch 26/50, Training Loss: 0.9146, Validation Loss: 0.9701, Validation Accuracy: 63.11%\n",
      "Epoch 27/50, Training Loss: 0.8673, Validation Loss: 0.9045, Validation Accuracy: 66.67%\n",
      "Epoch 28/50, Training Loss: 0.8154, Validation Loss: 0.8986, Validation Accuracy: 66.11%\n",
      "Epoch 29/50, Training Loss: 0.7863, Validation Loss: 0.9298, Validation Accuracy: 65.61%\n",
      "Epoch 30/50, Training Loss: 0.7537, Validation Loss: 0.8317, Validation Accuracy: 68.61%\n",
      "Epoch 31/50, Training Loss: 0.7327, Validation Loss: 0.8243, Validation Accuracy: 68.89%\n",
      "Epoch 32/50, Training Loss: 0.7005, Validation Loss: 0.9332, Validation Accuracy: 66.00%\n",
      "Epoch 33/50, Training Loss: 0.6935, Validation Loss: 0.8265, Validation Accuracy: 68.83%\n",
      "Epoch 34/50, Training Loss: 0.6772, Validation Loss: 0.8344, Validation Accuracy: 68.78%\n",
      "Epoch 35/50, Training Loss: 0.6393, Validation Loss: 0.9019, Validation Accuracy: 67.83%\n",
      "Epoch 36/50, Training Loss: 0.6326, Validation Loss: 0.8268, Validation Accuracy: 69.33%\n",
      "Epoch 37/50, Training Loss: 0.5837, Validation Loss: 0.7936, Validation Accuracy: 71.22%\n",
      "Epoch 38/50, Training Loss: 0.5668, Validation Loss: 0.8931, Validation Accuracy: 68.67%\n",
      "Epoch 39/50, Training Loss: 0.5708, Validation Loss: 0.9973, Validation Accuracy: 65.22%\n",
      "Epoch 40/50, Training Loss: 0.5622, Validation Loss: 0.8023, Validation Accuracy: 70.67%\n",
      "Epoch 41/50, Training Loss: 0.5379, Validation Loss: 0.7738, Validation Accuracy: 70.44%\n",
      "Epoch 42/50, Training Loss: 0.4917, Validation Loss: 0.8746, Validation Accuracy: 71.06%\n",
      "Epoch 43/50, Training Loss: 0.4881, Validation Loss: 0.9185, Validation Accuracy: 69.17%\n",
      "Epoch 44/50, Training Loss: 0.4824, Validation Loss: 0.9453, Validation Accuracy: 70.06%\n",
      "Epoch 45/50, Training Loss: 0.4399, Validation Loss: 0.8658, Validation Accuracy: 69.83%\n",
      "Epoch 46/50, Training Loss: 0.4350, Validation Loss: 0.8223, Validation Accuracy: 69.61%\n",
      "Epoch 47/50, Training Loss: 0.4003, Validation Loss: 0.8711, Validation Accuracy: 69.72%\n",
      "Epoch 48/50, Training Loss: 0.3956, Validation Loss: 0.8284, Validation Accuracy: 71.50%\n",
      "Early stopping triggered\n"
     ]
    }
   ],
   "source": [
    "# Training and validation loop with early stopping\n",
    "# Implemented early stopping with model checkpoint saving in the training loop\n",
    "# The early stopping mechanism is implemented to prevent overfitting\n",
    "num_epochs = 50\n",
    "for epoch in range(num_epochs):\n",
    "    model.train()\n",
    "    running_loss = 0.0\n",
    "    for inputs, labels in train_loader:\n",
    "        inputs, labels = inputs.to(device), labels.to(device)\n",
    "        optimizer.zero_grad()\n",
    "        outputs = model(inputs)\n",
    "        loss = criterion(outputs, labels)\n",
    "        loss.backward()\n",
    "        optimizer.step()\n",
    "        running_loss += loss.item()\n",
    "\n",
    "    model.eval()\n",
    "    val_loss = 0.0\n",
    "    correct = 0\n",
    "    total = 0\n",
    "    with torch.no_grad():\n",
    "        for inputs, labels in val_loader:\n",
    "            inputs, labels = inputs.to(device), labels.to(device)\n",
    "            outputs = model(inputs)\n",
    "            loss = criterion(outputs, labels)\n",
    "            val_loss += loss.item()\n",
    "            _, predicted = torch.max(outputs.data, 1)\n",
    "            total += labels.size(0)\n",
    "            correct += (predicted == labels).sum().item()\n",
    "\n",
    "    avg_train_loss = running_loss / len(train_loader)\n",
    "    avg_val_loss = val_loss / len(val_loader)\n",
    "    val_accuracy = 100 * correct / total\n",
    "\n",
    "    print(f\"Epoch {epoch + 1}/{num_epochs}, \"\n",
    "          f\"Training Loss: {avg_train_loss:.4f}, \"\n",
    "          f\"Validation Loss: {avg_val_loss:.4f}, \"\n",
    "          f\"Validation Accuracy: {val_accuracy:.2f}%\")\n",
    "\n",
    "    # Check for early stopping\n",
    "    if avg_val_loss < best_val_loss:\n",
    "        best_val_loss = avg_val_loss\n",
    "        patience_counter = 0\n",
    "        torch.save(model.state_dict(), 'best_model.pth')  # Save the best model\n",
    "    else:\n",
    "        patience_counter += 1\n",
    "        if patience_counter >= patience:\n",
    "            print(\"Early stopping triggered\")\n",
    "            break"
   ]
  },
  {
   "cell_type": "code",
   "execution_count": 89,
   "metadata": {},
   "outputs": [
    {
     "data": {
      "text/plain": [
       "<All keys matched successfully>"
      ]
     },
     "execution_count": 89,
     "metadata": {},
     "output_type": "execute_result"
    }
   ],
   "source": [
    "# Load the best model\n",
    "model.load_state_dict(torch.load('best_model.pth'))"
   ]
  },
  {
   "cell_type": "code",
   "execution_count": 90,
   "metadata": {},
   "outputs": [],
   "source": [
    "# Testing the model\n",
    "model.eval()\n",
    "test_loss = 0.0\n",
    "correct = 0\n",
    "total = 0\n",
    "all_labels = []\n",
    "all_predictions = []\n",
    "with torch.no_grad():\n",
    "    for inputs, labels in test_loader:\n",
    "        inputs, labels = inputs.to(device), labels.to(device)\n",
    "        outputs = model(inputs)\n",
    "        loss = criterion(outputs, labels)\n",
    "        test_loss += loss.item()\n",
    "        _, predicted = torch.max(outputs.data, 1)\n",
    "        total += labels.size(0)\n",
    "        correct += (predicted == labels).sum().item()\n",
    "        all_labels.extend(labels.cpu().numpy())\n",
    "        all_predictions.extend(predicted.cpu().numpy())"
   ]
  },
  {
   "cell_type": "code",
   "execution_count": 99,
   "metadata": {},
   "outputs": [
    {
     "name": "stdout",
     "output_type": "stream",
     "text": [
      "Test Loss: 0.0002, Test Accuracy: 71.21%, Precision: 0.7213, Recall: 0.6972, F1 Score: 0.7028\n",
      "\n",
      "Classification Report:\n",
      "                 precision    recall  f1-score   support\n",
      "\n",
      "           Bar       0.63      0.60      0.61       344\n",
      "     Gymnasium       0.93      0.67      0.78       400\n",
      "  HospitalRoom       0.74      0.79      0.77       357\n",
      "    Restaurant       0.49      0.63      0.55       345\n",
      "SubwayStation        0.78      0.79      0.79       354\n",
      "\n",
      "      accuracy                           0.70      1800\n",
      "     macro avg       0.71      0.70      0.70      1800\n",
      "  weighted avg       0.72      0.70      0.70      1800\n",
      "\n"
     ]
    }
   ],
   "source": [
    "# Compute metrics\n",
    "\n",
    "test_loss /= len(test_loader)\n",
    "test_accuracy = 100 * correct / total\n",
    "precision = precision_score(all_labels, all_predictions, average='weighted')\n",
    "recall = recall_score(all_labels, all_predictions, average='weighted')\n",
    "f1 = f1_score(all_labels, all_predictions, average='weighted')\n",
    "\n",
    "print(f\"Test Loss: {test_loss:.4f}, \"\n",
    "      f\"Test Accuracy: {test_accuracy:.2f}%, \"\n",
    "      f\"Precision: {precision:.4f}, \"\n",
    "      f\"Recall: {recall:.4f}, \"\n",
    "      f\"F1 Score: {f1:.4f}\")\n",
    "\n",
    "# Print classification report\n",
    "class_report = classification_report(all_labels, all_predictions, target_names=label_encoder.classes_)\n",
    "print(\"\\nClassification Report:\\n\", class_report)"
   ]
  },
  {
   "cell_type": "code",
   "execution_count": 94,
   "metadata": {},
   "outputs": [
    {
     "data": {
      "image/png": "[encoded data removed]",
      "text/plain": [
       "<Figure size 1000x800 with 2 Axes>"
      ]
     },
     "metadata": {},
     "output_type": "display_data"
    }
   ],
   "source": [
    "# Compute confusion matrix\n",
    "# Added Precision, recall, and F1 score calculation after testing\n",
    "conf_matrix = confusion_matrix(all_labels, all_predictions)\n",
    "\n",
    "# Plot confusion matrix\n",
    "plt.figure(figsize=(10, 8))\n",
    "sns.heatmap(conf_matrix, annot=True, fmt=\"d\", cmap=\"Blues\")\n",
    "plt.xlabel('Predicted Labels')\n",
    "plt.ylabel('True Labels')\n",
    "plt.title('Confusion Matrix')\n",
    "plt.show()"
   ]
  }
 ],
 "metadata": {
  "kernelspec": {
   "display_name": "base",
   "language": "python",
   "name": "python3"
  },
  "language_info": {
   "codemirror_mode": {
    "name": "ipython",
    "version": 3
   },
   "file_extension": ".py",
   "mimetype": "text/x-python",
   "name": "python",
   "nbconvert_exporter": "python",
   "pygments_lexer": "ipython3",
   "version": "3.10.0"
  }
 },
 "nbformat": 4,
 "nbformat_minor": 2
}
